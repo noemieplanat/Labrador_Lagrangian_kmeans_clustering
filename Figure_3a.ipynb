{
 "cells": [
  {
   "cell_type": "code",
   "execution_count": 2,
   "metadata": {
    "ExecuteTime": {
     "end_time": "2021-07-06T15:05:30.624404Z",
     "start_time": "2021-07-06T15:05:30.615136Z"
    }
   },
   "outputs": [],
   "source": [
    "import xarray as xr\n",
    "import numpy as np\n",
    "import pyproj as proj\n",
    "import random\n",
    "import time\n",
    "import matplotlib.cm as cm\n",
    "import matplotlib.pyplot as plt\n",
    "#from sklearn.decomposition import PCA\n",
    "#from sklearn.decomposition import KernelPCA\n",
    "# https://scikit-learn.org/stable/modules/generated/sklearn.decomposition.KernelPCA.html\n",
    "#from sklearn.model_selection import KFold\n",
    "# https://scikit-learn.org/stable/modules/generated/sklearn.decomposition.PCA.html\n",
    "#import wpca\n",
    "# https://github.com/jakevdp/wpca\n",
    "import time\n",
    "#from sklearn import cluster, datasets\n",
    "# https://scikit-learn.org/stable/modules/generated/sklearn.cluster.KMeans.html\n",
    "import cartopy.crs as ccrs\n",
    "#from sklearn.preprocessing import normalize\n",
    "#from sklearn.metrics import silhouette_samples, silhouette_score, calinski_harabasz_score\n",
    "import os"
   ]
  },
  {
   "cell_type": "code",
   "execution_count": null,
   "metadata": {},
   "outputs": [],
   "source": []
  },
  {
   "cell_type": "markdown",
   "metadata": {
    "ExecuteTime": {
     "end_time": "2021-05-19T08:54:40.285759Z",
     "start_time": "2021-05-19T08:54:40.282196Z"
    }
   },
   "source": [
    "# Load scores"
   ]
  },
  {
   "cell_type": "code",
   "execution_count": 3,
   "metadata": {
    "ExecuteTime": {
     "end_time": "2021-07-06T15:05:30.646397Z",
     "start_time": "2021-07-06T15:05:30.627722Z"
    }
   },
   "outputs": [],
   "source": [
    "Liste_silouhette_25 = np.load('./Scores/Nouvel_classif_no_cor/Liste_silouhette_25.npy', allow_pickle = True)\n",
    "Liste_silouhette_75 = np.load('./Scores/Nouvel_classif_no_cor/Liste_silouhette_75.npy', allow_pickle = True)\n",
    "Liste_silouhette_values = np.load('./Scores/Nouvel_classif_no_cor/Liste_silouhette_values.npy', allow_pickle = True)\n",
    "Liste_CH_score = np.load('./Scores/Nouvel_classif_no_cor/Liste_CH_score.npy', allow_pickle = True)\n",
    "Liste_BIC_score = np.load('./Scores/Nouvel_classif_no_cor/Liste_BIC_score.npy', allow_pickle = True)\n",
    "Liste_rscore = np.load('./Scores/Nouvel_classif_no_cor/Liste_rscore.npy', allow_pickle = True)\n",
    "Liste_rscore_std = np.load('./Scores/Nouvel_classif_no_cor/Liste_rscore_std.npy', allow_pickle = True)\n",
    "Liste_rscore_sameregion = np.load('./Scores/Nouvel_classif_no_cor/Liste_rscore_sameregion.npy', allow_pickle = True)\n",
    "Liste_rscore_popregion = np.load('./Scores/Nouvel_classif_no_cor/Liste_rscore_popregion.npy', allow_pickle = True)"
   ]
  },
  {
   "cell_type": "code",
   "execution_count": 4,
   "metadata": {
    "ExecuteTime": {
     "end_time": "2021-07-06T15:05:30.654192Z",
     "start_time": "2021-07-06T15:05:30.648566Z"
    }
   },
   "outputs": [],
   "source": [
    "Liste_silouhette_avg = np.zeros(len(Liste_silouhette_25))\n",
    "for i in range(len(Liste_silouhette_25)):\n",
    "    Liste_silouhette_avg[i] = np.mean(Liste_silouhette_values[i])\n",
    "    "
   ]
  },
  {
   "cell_type": "code",
   "execution_count": 5,
   "metadata": {
    "ExecuteTime": {
     "end_time": "2021-07-06T15:05:30.663008Z",
     "start_time": "2021-07-06T15:05:30.656885Z"
    }
   },
   "outputs": [],
   "source": [
    " n_clusterss = [] \n",
    "\n",
    "\n",
    "# w:sqrt-cos, k:cos\n",
    "for n in range(10,45,1):\n",
    "    n_clusterss.append(n)\n",
    "# w:cos, k:cos\n",
    "for n in range(10,45,1):\n",
    "    n_clusterss.append(n)\n"
   ]
  },
  {
   "cell_type": "markdown",
   "metadata": {
    "ExecuteTime": {
     "end_time": "2021-05-21T20:50:35.857535Z",
     "start_time": "2021-05-21T20:50:35.838574Z"
    }
   },
   "source": [
    "np.save('./Scores/Liste_silouhette_25_m', Liste_silouhette_25_m)\n",
    "np.save('./Scores/Liste_silouhette_75_m', Liste_silouhette_75_m)\n",
    "np.save('./Scores/Liste_silouhette_values_m', Liste_silouhette_values_m)\n",
    "np.save('./Scores/Liste_CH_score_m', Liste_CH_score_m)\n",
    "np.save('./Scores/Liste_BIC_score_m', Liste_BIC_score_m)\n",
    "np.save('./Scores/Liste_rscore_m', Liste_rscore_m)\n",
    "np.save('./Scores/Liste_rscore_std_m', Liste_rscore_std_m)\n",
    "np.save('./Scores/Liste_rscore_sameregion_m', Liste_rscore_sameregion_m)\n",
    "np.save('./Scores/Liste_rscore_popregion_m', Liste_rscore_popregion_m)\n"
   ]
  },
  {
   "cell_type": "markdown",
   "metadata": {
    "ExecuteTime": {
     "end_time": "2021-05-20T11:56:12.163821Z",
     "start_time": "2021-05-20T11:56:12.160561Z"
    }
   },
   "source": [
    "# Merge scores"
   ]
  },
  {
   "cell_type": "code",
   "execution_count": 6,
   "metadata": {
    "ExecuteTime": {
     "end_time": "2021-07-06T15:05:30.671315Z",
     "start_time": "2021-07-06T15:05:30.665752Z"
    }
   },
   "outputs": [],
   "source": [
    "Liste_silouhette_avg = np.zeros(len(Liste_silouhette_25))\n",
    "for i in range(len(Liste_silouhette_25)):\n",
    "    Liste_silouhette_avg[i] = np.mean(Liste_silouhette_values[i])"
   ]
  },
  {
   "cell_type": "markdown",
   "metadata": {},
   "source": [
    "# Plot"
   ]
  },
  {
   "cell_type": "code",
   "execution_count": 8,
   "metadata": {},
   "outputs": [],
   "source": [
    "def rescale(L):\n",
    "    return (L-np.min(L))/(np.max(L)-np.min(L))"
   ]
  },
  {
   "cell_type": "code",
   "execution_count": null,
   "metadata": {
    "ExecuteTime": {
     "end_time": "2021-07-06T15:05:32.909166Z",
     "start_time": "2021-07-06T15:05:30.675540Z"
    }
   },
   "outputs": [],
   "source": [
    "# plot scores\n",
    "\n",
    "f, axs = plt.subplots(3,3,figsize=(12,12),sharex=True)\n",
    "C = ['r', 'b', 'g', 'm', 'k', 'DarkOrange']\n",
    "Lab = ['W_sc_K_c', 'W_c_K_c', 'W_sq_K_s', 'W_c_K_s', 'W_n_K_s', 'W_n_K_c']\n",
    "for i in range(6):\n",
    "    axs[0,0].plot(n_clusterss[35*i:35*(i+1)], Liste_silouhette_avg[35*i:35*(i+1)], c=C[i], label = Lab[i])\n",
    "    axs[0,1].plot(n_clusterss[35*i:35*(i+1)], Liste_BIC_score[35*i:35*(i+1)], c=C[i])\n",
    "    axs[0,2].plot(n_clusterss[35*i:35*(i+1)], Liste_CH_score[35*i:35*(i+1)], c=C[i])\n",
    "    axs[1,0].plot(n_clusterss[35*i:35*(i+1)], Liste_rscore[35*i:35*(i+1)], c=C[i])\n",
    "    axs[1,1].plot(n_clusterss[35*i:35*(i+1)], Liste_rscore_std[35*i:35*(i+1)], c=C[i])\n",
    "    axs[1,2].plot(n_clusterss[35*i:35*(i+1)], Liste_rscore_sameregion[35*i:35*(i+1)], c=C[i])\n",
    "    axs[2,0].plot(n_clusterss[35*i:35*(i+1)], Liste_rscore_popregion[35*i:35*(i+1)], c=C[i])\n",
    "    \n",
    "handles1, labels1 = axs[0,0].get_legend_handles_labels()\n",
    "\n",
    "axs[0,0].set_title('Silhouette score (max)')\n",
    "axs[0,1].set_title('BIC score (min)')\n",
    "axs[0,2].set_title('CH score (max ?)')\n",
    "axs[1,0].set_title('Score différence temps passé par region')\n",
    "axs[1,1].set_title('Score écart-type temps passé par region')\n",
    "axs[1,2].set_title('Score points même région')\n",
    "axs[2,0].set_title('Score pourcentage dans région la plus populaire')\n",
    "    \n",
    "f.legend(handles1, labels1,ncol=1,fontsize=20, bbox_to_anchor=(0.525,0.19),loc='center') \n",
    "plt.xlabel('# of clusters')    \n",
    "plt.ylabel('Score')\n",
    "\n",
    "plt.tight_layout()\n",
    "\n"
   ]
  },
  {
   "cell_type": "code",
   "execution_count": null,
   "metadata": {
    "ExecuteTime": {
     "end_time": "2021-07-06T15:30:46.087037Z",
     "start_time": "2021-07-06T15:30:45.528689Z"
    }
   },
   "outputs": [],
   "source": [
    "# plot scores\n",
    "\n",
    "f, axs = plt.subplots(1,2,figsize = (12,5),sharex=True)\n",
    "C = ['r', 'b', 'g', 'm', 'k', 'DarkOrange']\n",
    "Lab = ['W_sc_K_c', 'W_c_K_c', 'W_sq_K_s', 'W_c_K_s', 'W_n_K_s', 'W_n_K_c']\n",
    "\n",
    "for i in range(1):\n",
    "    axs[0].plot(n_clusterss[35*i:35*(i+1)], rescale(Liste_silouhette_avg[35*i:35*(i+1)]), label = 'silouhette score')\n",
    "    axs[0].plot(n_clusterss[35*i:35*(i+1)], rescale(Liste_BIC_score[35*i:35*(i+1)]), label = 'BIC')\n",
    "    axs[0].plot(n_clusterss[35*i:35*(i+1)], rescale(Liste_CH_score[35*i:35*(i+1)]), label = 'CH')\n",
    "    axs[1].plot(n_clusterss[35*i:35*(i+1)], rescale(Liste_rscore_sameregion[35*i:35*(i+1)]), label = '1st phys. metric')\n",
    "    axs[1].plot(n_clusterss[35*i:35*(i+1)], rescale(Liste_rscore_popregion[35*i:35*(i+1)]), label = '2nd phys. metric')\n",
    "    \n",
    "axs[0].set_title('Numerical metrics')  \n",
    "axs[1].set_title('Physically based metrics')  \n",
    "axs[1].xlabel('# of clusters')    \n",
    "axs[1].ylabel('Score [u.a]')\n",
    "axs[0].xlabel('# of clusters')    \n",
    "axs[0].ylabel('Score [u.a]')\n",
    "axs[0].legend()\n",
    "axs[1].legend()\n",
    "plt.tight_layout()\n",
    "\n"
   ]
  },
  {
   "cell_type": "code",
   "execution_count": 18,
   "metadata": {},
   "outputs": [
    {
     "data": {
      "image/png": "[encoded data removed]",
      "text/plain": [
       "<Figure size 432x288 with 1 Axes>"
      ]
     },
     "metadata": {
      "needs_background": "light"
     },
     "output_type": "display_data"
    }
   ],
   "source": [
    "# plot scores for paper\n",
    "f, ax = plt.subplots(1,1,figsize=(6,4))\n",
    "i=0\n",
    "ax.plot(n_clusterss[35*i:35*(i+1)], rescale(Liste_silouhette_avg[35*i:35*(i+1)]), '-k', label = 'Silhouette score')\n",
    "ax.plot(n_clusterss[35*i:35*(i+1)], rescale(Liste_rscore_popregion[35*i:35*(i+1)]), '--k', label = 'Physical metric')\n",
    "\n",
    "ax.set_xlabel('# of clusters')    \n",
    "ax.set_ylabel('Score [u.a]')\n",
    "plt.legend(loc=1)\n",
    "plt.tight_layout()\n",
    "plt.savefig('Figs/Final/Vfinal/metrics.png',dpi=300)"
   ]
  },
  {
   "cell_type": "code",
   "execution_count": null,
   "metadata": {},
   "outputs": [],
   "source": []
  }
 ],
 "metadata": {
  "hide_input": true,
  "kernelspec": {
   "display_name": "Mython3",
   "language": "python",
   "name": "mython3"
  },
  "language_info": {
   "codemirror_mode": {
    "name": "ipython",
    "version": 3
   },
   "file_extension": ".py",
   "mimetype": "text/x-python",
   "name": "python",
   "nbconvert_exporter": "python",
   "pygments_lexer": "ipython3",
   "version": "3.7.6"
  },
  "latex_envs": {
   "LaTeX_envs_menu_present": true,
   "autoclose": false,
   "autocomplete": true,
   "bibliofile": "biblio.bib",
   "cite_by": "apalike",
   "current_citInitial": 1,
   "eqLabelWithNumbers": true,
   "eqNumInitial": 1,
   "hotkeys": {
    "equation": "Ctrl-E",
    "itemize": "Ctrl-I"
   },
   "labels_anchors": false,
   "latex_user_defs": false,
   "report_style_numbering": false,
   "user_envs_cfg": false
  },
  "toc": {
   "base_numbering": 1,
   "nav_menu": {},
   "number_sections": true,
   "sideBar": true,
   "skip_h1_title": false,
   "title_cell": "Table of Contents",
   "title_sidebar": "Contents",
   "toc_cell": false,
   "toc_position": {
    "height": "calc(100% - 180px)",
    "left": "10px",
    "top": "150px",
    "width": "165px"
   },
   "toc_section_display": true,
   "toc_window_display": true
  },
  "varInspector": {
   "cols": {
    "lenName": 16,
    "lenType": 16,
    "lenVar": 40
   },
   "kernels_config": {
    "python": {
     "delete_cmd_postfix": "",
     "delete_cmd_prefix": "del ",
     "library": "var_list.py",
     "varRefreshCmd": "print(var_dic_list())"
    },
    "r": {
     "delete_cmd_postfix": ") ",
     "delete_cmd_prefix": "rm(",
     "library": "var_list.r",
     "varRefreshCmd": "cat(var_dic_list()) "
    }
   },
   "types_to_exclude": [
    "module",
    "function",
    "builtin_function_or_method",
    "instance",
    "_Feature"
   ],
   "window_display": false
  }
 },
 "nbformat": 4,
 "nbformat_minor": 4
}
